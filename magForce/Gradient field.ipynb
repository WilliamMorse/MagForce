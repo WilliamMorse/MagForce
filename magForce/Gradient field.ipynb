{
 "cells": [
  {
   "cell_type": "code",
   "execution_count": 2,
   "metadata": {
    "collapsed": false
   },
   "outputs": [
    {
     "name": "stdout",
     "output_type": "stream",
     "text": [
      " Volume in drive C has no label.\n",
      " Volume Serial Number is A4AD-16E2\n",
      "\n",
      " Directory of C:\\Users\\William Morse\\ilikepie\\ILab2\\magForce\n",
      "\n",
      "04/09/2016  02:40 PM    <DIR>          .\n",
      "04/09/2016  02:40 PM    <DIR>          ..\n",
      "04/09/2016  02:35 PM    <DIR>          .ipynb_checkpoints\n",
      "04/09/2016  02:38 PM               121 ampsVsOffsetQuadFieldDipole.txt\n",
      "03/21/2016  04:13 PM             1,895 B field calc.ipynb\n",
      "04/09/2016  01:37 PM            38,706 field probe calibration.ipynb\n",
      "04/09/2016  02:40 PM               978 Gradient field.ipynb\n",
      "03/17/2016  06:35 PM               392 helmFieldX.txt\n",
      "03/17/2016  06:38 PM               578 helmFieldY.txt\n",
      "03/21/2016  03:50 PM            41,951 march31stDataAndNotebooks.zip\n",
      "03/17/2016  06:37 PM               248 quadFieldX.txt\n",
      "03/17/2016  06:40 PM               564 quadFieldY.txt\n",
      "04/04/2016  12:02 PM               121 QuadGradentVsCurrent.txt\n",
      "03/08/2016  05:22 PM               407 radial_field.txt\n",
      "04/04/2016  12:18 PM             2,674 random tests.ipynb\n",
      "04/04/2016  12:01 PM               136 singleCoilGradentVsYPosition.txt\n",
      "03/08/2016  05:17 PM               388 trans_field.txt\n",
      "04/09/2016  01:29 PM            34,367 will b-field calc.ipynb\n",
      "04/08/2016  03:55 PM            52,843 yAxisField.ipynb\n",
      "              16 File(s)        176,369 bytes\n",
      "               3 Dir(s)  44,565,708,800 bytes free\n"
     ]
    }
   ],
   "source": [
    "import numpy as np\n",
    "import uncertainties as u\n",
    "import matplotlib.pyplot as plt\n",
    "import scipy.stats as stats\n",
    "plt.rcParams['figure.figsize'] = (20, 16)\n",
    "%matplotlib inline\n",
    "%ls"
   ]
  },
  {
   "cell_type": "code",
   "execution_count": 1,
   "metadata": {
    "collapsed": false
   },
   "outputs": [
    {
     "ename": "SyntaxError",
     "evalue": "unexpected EOF while parsing (<ipython-input-1-3ec9b86b0e02>, line 9)",
     "output_type": "error",
     "traceback": [
      "\u001b[1;36m  File \u001b[1;32m\"<ipython-input-1-3ec9b86b0e02>\"\u001b[1;36m, line \u001b[1;32m9\u001b[0m\n\u001b[1;33m    \u001b[0m\n\u001b[1;37m    ^\u001b[0m\n\u001b[1;31mSyntaxError\u001b[0m\u001b[1;31m:\u001b[0m unexpected EOF while parsing\n"
     ]
    }
   ],
   "source": [
    "# plot the force on a dipole in a helmholtz configuation quadrupole field vs current thrhourgh the helmholtz coils:\n",
    "currentVsOffset = np.genfromtxt('QuadGradentVsCurrent.txt', delimiter=', ', skip_header=True)\n",
    "\n",
    "current = currentVsOffset[:,0]\n",
    "springOffset = currentVsOffset[:,1]\n",
    "\n",
    "# multiply the spring offset values by the spring constant K=0.8 N/m to get the force\n",
    "for i in springOffset:\n",
    "    "
   ]
  },
  {
   "cell_type": "code",
   "execution_count": null,
   "metadata": {
    "collapsed": true
   },
   "outputs": [],
   "source": []
  }
 ],
 "metadata": {
  "kernelspec": {
   "display_name": "Python 3",
   "language": "python",
   "name": "python3"
  },
  "language_info": {
   "codemirror_mode": {
    "name": "ipython",
    "version": 3
   },
   "file_extension": ".py",
   "mimetype": "text/x-python",
   "name": "python",
   "nbconvert_exporter": "python",
   "pygments_lexer": "ipython3",
   "version": "3.5.1"
  }
 },
 "nbformat": 4,
 "nbformat_minor": 0
}
