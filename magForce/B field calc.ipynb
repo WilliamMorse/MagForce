{
 "cells": [
  {
   "cell_type": "markdown",
   "metadata": {},
   "source": [
    "## B Field Calc\n",
    "\n",
    "$$ B = \\frac{\\mu_0 IN}{2} \\frac{R^2}{(z^2+R^2)^\\frac{3}{2}}$$\n",
    "Where,\n",
    "$$\\mu_0 = 4\\pi \\times 10^{-7}$$\n",
    "$$I = current$$\n",
    "$$N = turns of wire$$\n",
    "$$R = radius of coil$$"
   ]
  },
  {
   "cell_type": "code",
   "execution_count": 1,
   "metadata": {
    "collapsed": true
   },
   "outputs": [],
   "source": [
    "import numpy as np\n",
    "import matplotlib.pyplot as plt\n",
    "from scipy.optimize import curve_fit\n",
    "% matplotlib inline\n",
    "from matplotlib import rc\n",
    "rc('text', usetex=True)\n",
    "rc('font', **{'family': 'serif', 'serif': ['Computer Modern']})\n",
    "from pylab import rcParams\n",
    "rcParams['figure.figsize'] = 10,8\n"
   ]
  },
  {
   "cell_type": "code",
   "execution_count": 3,
   "metadata": {
    "collapsed": false
   },
   "outputs": [
    {
     "name": "stdout",
     "output_type": "stream",
     "text": [
      "0.001618517314031783tesla\n"
     ]
    }
   ],
   "source": [
    "mu = 4*np.pi*1.0e-7\n",
    "I = 1.5 #amps\n",
    "N = 168\n",
    "R = 0.07 #m\n",
    "z = R/2 # + 0.02\n",
    "\n",
    "B = (mu*I*N*R**2)/(2*(z**2+ R**2)**(3/2))\n",
    "print(str(B) + \"tesla\") "
   ]
  },
  {
   "cell_type": "code",
   "execution_count": null,
   "metadata": {
    "collapsed": true
   },
   "outputs": [],
   "source": []
  }
 ],
 "metadata": {
  "kernelspec": {
   "display_name": "Python 3",
   "language": "python",
   "name": "python3"
  },
  "language_info": {
   "codemirror_mode": {
    "name": "ipython",
    "version": 3
   },
   "file_extension": ".py",
   "mimetype": "text/x-python",
   "name": "python",
   "nbconvert_exporter": "python",
   "pygments_lexer": "ipython3",
   "version": "3.5.1"
  }
 },
 "nbformat": 4,
 "nbformat_minor": 0
}
