{
 "cells": [
  {
   "cell_type": "code",
   "execution_count": 1,
   "metadata": {
    "collapsed": true
   },
   "outputs": [],
   "source": [
    "import uncertainties as u"
   ]
  },
  {
   "cell_type": "code",
   "execution_count": 21,
   "metadata": {
    "collapsed": false
   },
   "outputs": [
    {
     "name": "stdout",
     "output_type": "stream",
     "text": [
      "(1.00+/-0.10)e+05\n"
     ]
    }
   ],
   "source": [
    "a = u.ufloat(1, .1)\n",
    "b = u.ufloat(100000, .1)\n",
    "\n",
    "print(a*b)"
   ]
  },
  {
   "cell_type": "code",
   "execution_count": 22,
   "metadata": {
    "collapsed": false
   },
   "outputs": [
    {
     "name": "stdout",
     "output_type": "stream",
     "text": [
      "[1.0+/-0.1, 100000.0+/-0.1]\n"
     ]
    }
   ],
   "source": [
    "c = [a,b]\n",
    "print(c)"
   ]
  },
  {
   "cell_type": "code",
   "execution_count": 24,
   "metadata": {
    "collapsed": false
   },
   "outputs": [
    {
     "name": "stdout",
     "output_type": "stream",
     "text": [
      "[0.1, 0.1]\n"
     ]
    }
   ],
   "source": [
    "def extract_uncertainties(array_of_ufloats):\n",
    "    array_of_uncertinties = []\n",
    "    for i in array_of_ufloats:\n",
    "        uncertainty = i.s\n",
    "        array_of_uncertinties.append(uncertainty)\n",
    "    return(array_of_uncertinties)\n",
    "        \n",
    "print(extract_uncertainties(c))\n",
    "#def combine_uncertainties(values, uncertainties):\n",
    "    \n",
    "        "
   ]
  },
  {
   "cell_type": "code",
   "execution_count": null,
   "metadata": {
    "collapsed": true
   },
   "outputs": [],
   "source": [
    "# takes an array of ufloats and returns a modified array of ufloats\n",
    "\n",
    "def convert_numpy_array_to_ufloat_list(numpyArray):\n",
    "    ufloatList = []\n",
    "    for i in range(len(numpyArray)):\n",
    "        ufloatList.append(u.ufloat(numpyArray[i],0))\n",
    "    return(ufloatList)\n",
    "\n",
    "def convert_volts_to_current(array):\n",
    "    for i in range(len(array)):\n",
    "        array[i,1] = (array[i,1]/radialVoltsPerFieldRatio).n # takes the actuall value in the uncertinties package ignoring error for now\n",
    "    return array"
   ]
  }
 ],
 "metadata": {
  "kernelspec": {
   "display_name": "Python 3",
   "language": "python",
   "name": "python3"
  },
  "language_info": {
   "codemirror_mode": {
    "name": "ipython",
    "version": 3
   },
   "file_extension": ".py",
   "mimetype": "text/x-python",
   "name": "python",
   "nbconvert_exporter": "python",
   "pygments_lexer": "ipython3",
   "version": "3.5.1"
  }
 },
 "nbformat": 4,
 "nbformat_minor": 0
}
