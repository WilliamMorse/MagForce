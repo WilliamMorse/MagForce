{
 "cells": [
  {
   "cell_type": "code",
   "execution_count": 1,
   "metadata": {
    "collapsed": false
   },
   "outputs": [],
   "source": [
    "import numpy as np\n",
    "import uncertainties as u\n",
    "import matplotlib.pyplot as plt\n",
    "import scipy.stats as stats\n",
    "plt.rcParams['figure.figsize'] = (20, 16)\n",
    "%matplotlib inline"
   ]
  },
  {
   "cell_type": "markdown",
   "metadata": {},
   "source": [
    "Here is the total field from the Helmholtz coil where N is the nimber of turns on one side of the coil:\n",
    "$$B_y = \\frac{\\mu_0 N I R_z^2}{\\big(R_y^2 + R_z^2\\big)^\\frac{3}{2}}$$\n",
    "\n",
    "we want to calculate the ratio $$\\frac{R_z^2}{(R_y^2 + R_z^2)^\\frac{3}{2}}$$"
   ]
  },
  {
   "cell_type": "code",
   "execution_count": 11,
   "metadata": {
    "collapsed": false
   },
   "outputs": [
    {
     "name": "stdout",
     "output_type": "stream",
     "text": [
      "0.02274+/-0.00005 0.024389+/-0.000025\n",
      "30.098+/-0.030\n"
     ]
    }
   ],
   "source": [
    "m_0 = u.ufloat(4*np.pi*10**-7, 1e-15)\n",
    "N = u.ufloat(21, 0) # number of turns on one side\n",
    "\n",
    "radius = u.ufloat(22.743e-3, 0.05e-3)\n",
    "spacing = u.ufloat(24.389e-3, 0.025e-3)\n",
    "print(radius, spacing)\n",
    "\n",
    "R_x = radius\n",
    "R_y = (spacing/2)\n",
    "R_z = radius\n",
    "\n",
    "helmholtz_ratio = (R_z**2)/((R_y**2 + R_z**2)**(3/2))\n",
    "print(helmholtz_ratio)"
   ]
  },
  {
   "cell_type": "code",
   "execution_count": 12,
   "metadata": {
    "collapsed": false
   },
   "outputs": [
    {
     "name": "stdout",
     "output_type": "stream",
     "text": [
      "(7.943+/-0.008)e-04\n"
     ]
    }
   ],
   "source": [
    "h_coil_multiply_by_current_to_get_b = (m_0 * N * helmholtz_ratio)\n",
    "print(format(h_coil_multiply_by_current_to_get_b,'e'))"
   ]
  },
  {
   "cell_type": "markdown",
   "metadata": {
    "collapsed": true
   },
   "source": [
    "$$RMS = \\sqrt{(\\frac{\\partial B}{\\partial x}+\\Delta x)^2 + (\\frac{\\partial B}{\\partial y}+\\Delta y)^2}$$"
   ]
  },
  {
   "cell_type": "markdown",
   "metadata": {},
   "source": [
    "We also used the old solinoid (575 turns) from our previous LRC experement to calibrate the radial component of the hall probe:\n",
    "\n",
    "The equation for the field in a solinoid is:\n",
    "$$B = \\mu_0 N I$$"
   ]
  },
  {
   "cell_type": "code",
   "execution_count": 16,
   "metadata": {
    "collapsed": false
   },
   "outputs": [
    {
     "name": "stdout",
     "output_type": "stream",
     "text": [
      "(7.2257+/-0.0013)e-04 T/A\n"
     ]
    }
   ],
   "source": [
    "N_s = u.ufloat(575, 0.1)\n",
    "solinoid_multiply_by_current_to_get_b = m_0 * N_s\n",
    "print(format(solinoid_multiply_by_current_to_get_b,'e')+ ' T/A')"
   ]
  },
  {
   "cell_type": "markdown",
   "metadata": {},
   "source": [
    "### Translational field gain and error anylisis"
   ]
  },
  {
   "cell_type": "code",
   "execution_count": 17,
   "metadata": {
    "collapsed": false
   },
   "outputs": [
    {
     "data": {
      "image/png": "[encoded data removed]",
      "text/plain": [
       "<matplotlib.figure.Figure at 0x23673d8c588>"
      ]
     },
     "metadata": {},
     "output_type": "display_data"
    },
    {
     "name": "stdout",
     "output_type": "stream",
     "text": [
      "normal slope: LinregressResult(slope=975.15132991045743, intercept=0.016240000000000001, rvalue=0.99998074798269199, pvalue=2.8160372868205056e-52, stderr=1.2617330808293072)\n",
      "plus slope: LinregressResult(slope=991.25010505073772, intercept=0.016240000000000001, rvalue=0.9999044482150804, pvalue=2.8232399794847306e-44, stderr=2.8574908814501589)\n",
      "minus slope: LinregressResult(slope=959.08469130993581, intercept=0.016239999999999997, rvalue=0.99999209645522502, pvalue=1.0072504344551247e-56, stderr=0.79509966800448928)\n"
     ]
    }
   ],
   "source": [
    "# import the translational data (small helmholtz coil data)\n",
    "helmholtz_data = np.genfromtxt('trans_field.txt', delimiter= ',', skip_header= True)\n",
    "\n",
    "h_coil_current = helmholtz_data[:,0] # separate out the current data\n",
    "\n",
    "# now we gererate an array of ufloats so we can propogate the error in the b field into the calibration data\n",
    "h_coil_current_with_error = []\n",
    "for i in range(len(h_coil_current)):\n",
    "    current_with_error = u.ufloat(h_coil_current[i], 0.0005) # +/- .5 mA\n",
    "    h_coil_current_with_error.append(current_with_error) \n",
    "\n",
    "h_coil_b = h_coil_current * h_coil_multiply_by_current_to_get_b\n",
    "#print(h_coil_b)\n",
    "   \n",
    "    \n",
    "# make an errorbar plot:\n",
    "h_coil_voltage = helmholtz_data[:,1] #extract the voltage data\n",
    "\n",
    "# extract error and values from the b field so we can plot it\n",
    "h_coil_b_field_error = [val.s for val in h_coil_b]\n",
    "h_coil_b_field_values = [val.n for val in h_coil_b]\n",
    "\n",
    "plt.figure(figsize = (20,8))\n",
    "plt.errorbar(h_coil_b_field_values, \n",
    "             h_coil_voltage, \n",
    "             xerr = h_coil_b_field_error, \n",
    "             yerr = 0.005, marker = 'None', \n",
    "             linestyle= 'None')\n",
    "plt.show()\n",
    "\n",
    "'''\n",
    "uncertain_current = []\n",
    "uncertain_voltage = []\n",
    "# add uncertinties to the current (convert to ufloat):\n",
    "for i in h_coil_current:\n",
    "    uncertain_current.append(0.0005) # +/- .5 mA\n",
    "\n",
    "h_coil_sensor_output_voltage = helmholtz_data[:,1]\n",
    "for i in h_coil_voltage:\n",
    "    uncertain_voltage.append(0.005) # +/- 5 mV\n",
    "'''\n",
    "\n",
    "    \n",
    "# compute the slope by fitting a line:\n",
    "#slope, intercept, rvalue, pvalue, sterr = \n",
    "print(\"normal slope: \" + str(stats.linregress(h_coil_b_field_values,h_coil_voltage)))\n",
    "\n",
    "# find the worst case slopes\n",
    "plusField = []\n",
    "minusField = []\n",
    "plusVolts = []\n",
    "minusVolts = []\n",
    "for i in range(len(h_coil_b_field_values)):\n",
    "    if h_coil_b_field_values[i] > 0:\n",
    "        plusField.append(h_coil_b_field_values[i]-h_coil_b_field_error[i])\n",
    "        minusField.append(h_coil_b_field_values[i]+h_coil_b_field_error[i])\n",
    "        plusVolts.append(h_coil_voltage[i]+0.005)\n",
    "        minusVolts.append(h_coil_voltage[i]-0.005)\n",
    "    elif h_coil_b_field_values[i] < 0:\n",
    "        plusField.append(h_coil_b_field_values[i]+h_coil_b_field_error[i])\n",
    "        minusField.append(h_coil_b_field_values[i]-h_coil_b_field_error[i])\n",
    "        plusVolts.append(h_coil_voltage[i]-0.005)\n",
    "        minusVolts.append(h_coil_voltage[i]+0.005)\n",
    "    elif h_coil_b_field_values[i] == 0:\n",
    "        plusField.append(h_coil_b_field_values[i])\n",
    "        minusField.append(h_coil_b_field_values[i])\n",
    "        plusVolts.append(h_coil_voltage[i])\n",
    "        minusVolts.append(h_coil_voltage[i])\n",
    "        \n",
    "print('plus slope: ' + str(stats.linregress(plusField,plusVolts)))\n",
    "\n",
    "print('minus slope: ' + str(stats.linregress(minusField,minusVolts)))\n",
    "\n",
    "#print(h_coil_b_field_error)\n",
    "\n"
   ]
  },
  {
   "cell_type": "markdown",
   "metadata": {
    "collapsed": true
   },
   "source": [
    " create sorst case scinario data to find the +- error on our sensor calibration: \n",
    "\n",
    "we find the translational sensor gain to be: $975 \\pm 20 \\frac{V}{T}$\n"
   ]
  },
  {
   "cell_type": "code",
   "execution_count": 20,
   "metadata": {
    "collapsed": false
   },
   "outputs": [
    {
     "data": {
      "image/png": "[encoded data removed]",
      "text/plain": [
       "<matplotlib.figure.Figure at 0x236747e0400>"
      ]
     },
     "metadata": {},
     "output_type": "display_data"
    },
    {
     "name": "stdout",
     "output_type": "stream",
     "text": [
      "normal slope: LinregressResult(slope=1765.7544279108738, intercept=0.013889120660684068, rvalue=0.99999736137274153, pvalue=1.6932561855178522e-67, stderr=0.81126955686963265)\n",
      "plus slope: LinregressResult(slope=1770.4271894816313, intercept=0.013946541797242085, rvalue=0.99999562564319555, pvalue=9.3955163841447398e-65, stderr=1.0473252912557847)\n",
      "minus slope: LinregressResult(slope=1761.0909941546045, intercept=0.013831699524126134, rvalue=0.99999834692831546, pvalue=4.8994291104367009e-70, stderr=0.64043221784572235)\n"
     ]
    }
   ],
   "source": [
    "# import the translational data (small helmholtz coil data)\n",
    "helmholtz_data = np.genfromtxt('radial_field.txt', delimiter= ',', skip_header= True)\n",
    "\n",
    "h_coil_current = helmholtz_data[:,0] # separate out the current data\n",
    "\n",
    "# now we gererate an array of ufloats so we can propogate the error in the b field into the calibration data\n",
    "h_coil_current_with_error = []\n",
    "for i in range(len(h_coil_current)):\n",
    "    current_with_error = u.ufloat(h_coil_current[i], 0.0005) # +/- .5 mA\n",
    "    h_coil_current_with_error.append(current_with_error) \n",
    "\n",
    "h_coil_b = h_coil_current * h_coil_multiply_by_current_to_get_b\n",
    "#print(h_coil_b)\n",
    "   \n",
    "    \n",
    "# make an errorbar plot:\n",
    "h_coil_voltage = helmholtz_data[:,1] #extract the voltage data\n",
    "\n",
    "# extract error and values from the b field so we can plot it\n",
    "h_coil_b_field_error = [val.s for val in h_coil_b]\n",
    "h_coil_b_field_values = [val.n for val in h_coil_b]\n",
    "\n",
    "plt.figure(figsize = (20,8))\n",
    "plt.errorbar(h_coil_b_field_values, \n",
    "             h_coil_voltage, \n",
    "             xerr = h_coil_b_field_error, \n",
    "             yerr = 0.005, marker = 'None', \n",
    "             linestyle= 'None')\n",
    "plt.show()\n",
    "\n",
    "'''\n",
    "uncertain_current = []\n",
    "uncertain_voltage = []\n",
    "# add uncertinties to the current (convert to ufloat):\n",
    "for i in h_coil_current:\n",
    "    uncertain_current.append(0.0005) # +/- .5 mA\n",
    "\n",
    "h_coil_sensor_output_voltage = helmholtz_data[:,1]\n",
    "for i in h_coil_voltage:\n",
    "    uncertain_voltage.append(0.005) # +/- 5 mV\n",
    "'''\n",
    "\n",
    "    \n",
    "# compute the slope by fitting a line:\n",
    "#slope, intercept, rvalue, pvalue, sterr = \n",
    "print(\"normal slope: \" + str(stats.linregress(h_coil_b_field_values,h_coil_voltage)))\n",
    "\n",
    "# find the worst case slopes\n",
    "plusField = []\n",
    "minusField = []\n",
    "plusVolts = []\n",
    "minusVolts = []\n",
    "for i in range(len(h_coil_b_field_values)):\n",
    "    if h_coil_b_field_values[i] > 0:\n",
    "        plusField.append(h_coil_b_field_values[i]-h_coil_b_field_error[i])\n",
    "        minusField.append(h_coil_b_field_values[i]+h_coil_b_field_error[i])\n",
    "        plusVolts.append(h_coil_voltage[i]+0.005)\n",
    "        minusVolts.append(h_coil_voltage[i]-0.005)\n",
    "    elif h_coil_b_field_values[i] < 0:\n",
    "        plusField.append(h_coil_b_field_values[i]+h_coil_b_field_error[i])\n",
    "        minusField.append(h_coil_b_field_values[i]-h_coil_b_field_error[i])\n",
    "        plusVolts.append(h_coil_voltage[i]-0.005)\n",
    "        minusVolts.append(h_coil_voltage[i]+0.005)\n",
    "    elif h_coil_b_field_values[i] == 0:\n",
    "        plusField.append(h_coil_b_field_values[i])\n",
    "        minusField.append(h_coil_b_field_values[i])\n",
    "        plusVolts.append(h_coil_voltage[i])\n",
    "        minusVolts.append(h_coil_voltage[i])\n",
    "        \n",
    "print('plus slope: ' + str(stats.linregress(plusField,plusVolts)))\n",
    "\n",
    "print('minus slope: ' + str(stats.linregress(minusField,minusVolts)))\n",
    "\n",
    "#print(h_coil_b_field_error)\n",
    "\n"
   ]
  },
  {
   "cell_type": "markdown",
   "metadata": {
    "collapsed": true
   },
   "source": [
    "for the radial field component the gain and error is: $1765 \\pm 5$ Volts per Tesla"
   ]
  },
  {
   "cell_type": "code",
   "execution_count": null,
   "metadata": {
    "collapsed": true
   },
   "outputs": [],
   "source": []
  }
 ],
 "metadata": {
  "kernelspec": {
   "display_name": "Python 3",
   "language": "python",
   "name": "python3"
  },
  "language_info": {
   "codemirror_mode": {
    "name": "ipython",
    "version": 3
   },
   "file_extension": ".py",
   "mimetype": "text/x-python",
   "name": "python",
   "nbconvert_exporter": "python",
   "pygments_lexer": "ipython3",
   "version": "3.5.1"
  }
 },
 "nbformat": 4,
 "nbformat_minor": 0
}
