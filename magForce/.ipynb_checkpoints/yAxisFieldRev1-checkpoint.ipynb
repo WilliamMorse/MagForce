{
 "cells": [
  {
   "cell_type": "code",
   "execution_count": 94,
   "metadata": {
    "collapsed": false
   },
   "outputs": [],
   "source": [
    "import numpy as np\n",
    "import uncertainties as u\n",
    "import matplotlib.pyplot as plt\n",
    "import scipy.stats as stats\n",
    "plt.rcParams['figure.figsize'] = (20, 16)\n",
    "%matplotlib inline\n",
    "#%ls"
   ]
  },
  {
   "cell_type": "code",
   "execution_count": 137,
   "metadata": {
    "collapsed": false
   },
   "outputs": [
    {
     "name": "stdout",
     "output_type": "stream",
     "text": [
      "8.49858356941e-06 0.0\n"
     ]
    }
   ],
   "source": [
    "#load in our voltage and current data:\n",
    "xAxisHelm = np.genfromtxt('helmFieldX.txt', delimiter=', ', skip_header=True)\n",
    "yAxisHelm = np.genfromtxt('helmFieldY.txt', delimiter=', ', skip_header=True)\n",
    "\n",
    "xAxisQuad = np.genfromtxt('quadFieldX.txt', delimiter=', ', skip_header=True)\n",
    "yAxisQuad = np.genfromtxt('quadFieldY.txt', delimiter=', ', skip_header=True)\n",
    "#print(xAxisHelm)\n",
    "\n",
    "# convert voltage into current\n",
    "radialVoltsPerFieldRatio = u.ufloat(1765, 5) # V/T Magical ratio derived from our sensor calibration\n",
    "\n",
    "def convert_volts_to_current(array):\n",
    "    for i in range(len(array)):\n",
    "        array[i,1] = (array[i,1]/radialVoltsPerFieldRatio).n # takes the actuall value in the uncertinties package\n",
    "    return array\n",
    "\n",
    "yAxisHelm = convert_volts_to_current(yAxisHelm)\n",
    "yAxisQuad = convert_volts_to_current(yAxisQuad)\n",
    "\n",
    "# allign starting locations and allign center of coils to zero\n",
    "#print('before offset: ', yAxisHelm[0,0], yAxisQuad[0,0])\n",
    "def offset_dataset(array, offset, axis=0):\n",
    "    if axis == 0:\n",
    "        for i in range(len(array)):\n",
    "            array[i,0] = array[i,0]+offset\n",
    "        return array\n",
    "    elif axis == 1:\n",
    "        for i in range(len(array)):\n",
    "            array[i,1] = array[i,1]+offset\n",
    "        return array\n",
    "\n",
    "yAxisHelm = offset_dataset(yAxisHelm, -14) # measured offsets from our aparatus\n",
    "yAxisQuad = offset_dataset(yAxisQuad, -15)\n",
    "#print('after offset: ', yAxisHelm[0,0], yAxisQuad[0,0])\n",
    "\n",
    "\n",
    "# zero the field from measuremnts of the earth's field with the coils turned off:\n",
    "earthField = -1*(0.049/radialVoltsPerFieldRatio).n\n",
    "yAxisHelm = offset_dataset(yAxisHelm, earthField, axis=1)\n",
    "yAxisQuad = offset_dataset(yAxisQuad, earthField, axis=1)\n",
    "print(yAxisHelm[-7,1],yAxisQuad[-3,1])\n",
    "\n",
    "\n",
    "# calculate the field from one coil by subtracting the quad data from the helm data\n",
    "# this only works on the subset of the data that has the same positional coords\n",
    "\n",
    "#yOneCoil = [yAxisHelm[0:43,1] - yAxisQuad[0:43,1]+ yAxisHelm[0:43,0]]\n",
    "yCoilOne = np.zeros((43,2))\n",
    "for i in range(43):\n",
    "    yCoilOne[i,1] = (yAxisHelm[i,1]+yAxisQuad[i,1])/2\n",
    "    yCoilOne[i,0] = yAxisHelm[i,0]\n",
    "    \n",
    "yCoilTwo = np.zeros((43,2))\n",
    "for i in range(43):\n",
    "    yCoilTwo[i,1] = (yAxisHelm[i,1]-yAxisQuad[i,1])/2\n",
    "    yCoilTwo[i,0] = yAxisHelm[i,0]\n",
    "    \n",
    "yCoilTwoInverted = np.zeros((43,2))\n",
    "for i in range(43):\n",
    "    yCoilTwoInverted[i,1] = -(yAxisHelm[i,1]-yAxisQuad[i,1])/2\n",
    "    yCoilTwoInverted[i,0] = yAxisHelm[i,0]\n",
    "   "
   ]
  },
  {
   "cell_type": "code",
   "execution_count": 138,
   "metadata": {
    "collapsed": false
   },
   "outputs": [
    {
     "data": {
      "image/png": "[encoded data removed]",
      "text/plain": [
       "<matplotlib.figure.Figure at 0x2001d304a20>"
      ]
     },
     "metadata": {},
     "output_type": "display_data"
    }
   ],
   "source": [
    "plt.figure(figsize=(17,8))\n",
    "plt.plot(yAxisHelm[:43,0],yAxisHelm[:43,1], 'o')\n",
    "plt.plot(yAxisQuad[:43,0],yAxisQuad[:43,1], 'o')\n",
    "plt.plot(yCoilOne[:,0],yCoilOne[:,1], 'o')\n",
    "plt.plot(yCoilTwo[:,0],yCoilTwo[:,1], 'o')\n",
    "plt.plot(yCoilTwoInverted[:,0],yCoilTwoInverted[:,1], 'o')\n",
    "plt.show()"
   ]
  },
  {
   "cell_type": "markdown",
   "metadata": {},
   "source": [
    "stuff to do:\n",
    "    convert to errorbar plot,\n",
    "    make legend,\n",
    "    find fit function,\n",
    "    measure coil size,\n",
    "    look up aplications (perhaps present them after our results).\n"
   ]
  },
  {
   "cell_type": "code",
   "execution_count": null,
   "metadata": {
    "collapsed": false
   },
   "outputs": [],
   "source": []
  },
  {
   "cell_type": "code",
   "execution_count": null,
   "metadata": {
    "collapsed": false
   },
   "outputs": [],
   "source": []
  },
  {
   "cell_type": "code",
   "execution_count": null,
   "metadata": {
    "collapsed": true
   },
   "outputs": [],
   "source": []
  }
 ],
 "metadata": {
  "kernelspec": {
   "display_name": "Python 3",
   "language": "python",
   "name": "python3"
  },
  "language_info": {
   "codemirror_mode": {
    "name": "ipython",
    "version": 3
   },
   "file_extension": ".py",
   "mimetype": "text/x-python",
   "name": "python",
   "nbconvert_exporter": "python",
   "pygments_lexer": "ipython3",
   "version": "3.5.1"
  }
 },
 "nbformat": 4,
 "nbformat_minor": 0
}
