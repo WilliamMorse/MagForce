{
 "cells": [
  {
   "cell_type": "code",
   "execution_count": 8,
   "metadata": {
    "collapsed": false
   },
   "outputs": [
    {
     "name": "stdout",
     "output_type": "stream",
     "text": [
      " Volume in drive C has no label.\n",
      " Volume Serial Number is A4AD-16E2\n",
      "\n",
      " Directory of C:\\Users\\William Morse\\ilikepie\\ILab2\\magForce\\Data validation\n",
      "\n",
      "05/12/2016  08:25 PM    <DIR>          .\n",
      "05/12/2016  08:25 PM    <DIR>          ..\n",
      "04/10/2016  02:45 PM    <DIR>          .ipynb_checkpoints\n",
      "03/17/2016  06:38 PM               578 helmFieldY.txt\n",
      "05/12/2016  07:59 PM           215,147 Helmholtz coil data troubleshooting.ipynb\n",
      "05/12/2016  07:57 PM           387,950 helmholtzPlot.png\n",
      "03/17/2016  06:40 PM               564 quadFieldY.txt\n",
      "04/10/2016  01:33 PM               411 radial_field.txt\n",
      "05/12/2016  08:25 PM            13,163 Unumpy testing.ipynb\n",
      "               6 File(s)        617,813 bytes\n",
      "               3 Dir(s)  32,538,206,208 bytes free\n"
     ]
    }
   ],
   "source": [
    "from uncertainties import unumpy, ufloat\n",
    "import numpy as np\n",
    "import matplotlib.pyplot as plt\n",
    "%matplotlib inline\n",
    "%ls"
   ]
  },
  {
   "cell_type": "code",
   "execution_count": 9,
   "metadata": {
    "collapsed": false
   },
   "outputs": [
    {
     "name": "stdout",
     "output_type": "stream",
     "text": [
      "[0.0+/-0.01 0.25+/-0.01 0.53+/-0.01 0.7+/-0.01 1.08+/-0.01 1.25+/-0.01\n",
      " 1.55+/-0.01 1.74+/-0.01 2.06+/-0.01 2.26+/-0.01 2.52+/-0.01 2.77+/-0.01\n",
      " 3.05+/-0.01 0.0+/-0.01 -3.05+/-0.01 -0.25+/-0.01 -2.75+/-0.01 -0.5+/-0.01\n",
      " -2.5+/-0.01 -0.75+/-0.01 -2.25+/-0.01 -1.0+/-0.01 -2.0+/-0.01 -1.25+/-0.01\n",
      " -1.75+/-0.01 -1.5+/-0.01 -3.05+/-0.01]\n"
     ]
    }
   ],
   "source": [
    "data = np.genfromtxt('radial_field.txt', delimiter=', ', skip_header=True)\n",
    "#print(data)\n",
    "\n",
    "uncertin_array = unumpy.uarray(data[:,0], 0.01)\n",
    "print(uncertin_array)"
   ]
  },
  {
   "cell_type": "code",
   "execution_count": 10,
   "metadata": {
    "collapsed": false
   },
   "outputs": [],
   "source": [
    "def errorbarrplot(xuarray, yuarray, marker='.'):\n",
    "    \n",
    "    xdataarray = []\n",
    "    xerrorarray = []\n",
    "    ydataarray = []\n",
    "    yerrorarray = []\n",
    "    \n",
    "    for i in xuarray:\n",
    "        xdataarray.append(i.s)\n",
    "        xerrorarray.append(i.n)\n",
    "        \n",
    "    for i in yuarray:\n",
    "        ydataarray.append(i.s)\n",
    "        yerrorarray.append(i.n)\n",
    "        \n",
    "    return(plt.errorbar(xdataarray, yerrorarray, xerrorarray, yerrorarray, marker=marker))"
   ]
  },
  {
   "cell_type": "code",
   "execution_count": 11,
   "metadata": {
    "collapsed": false
   },
   "outputs": [
    {
     "name": "stdout",
     "output_type": "stream",
     "text": [
      "3.141592653589793\n"
     ]
    }
   ],
   "source": [
    "print(np.pi)"
   ]
  },
  {
   "cell_type": "code",
   "execution_count": 12,
   "metadata": {
    "collapsed": false
   },
   "outputs": [
    {
     "name": "stdout",
     "output_type": "stream",
     "text": [
      "0.0116+/-0.0009\n"
     ]
    }
   ],
   "source": [
    "k = ufloat(1.16, 0.07)\n",
    "x = ufloat(.010, 0.0005)\n",
    "\n",
    "print(k*x)"
   ]
  },
  {
   "cell_type": "code",
   "execution_count": 24,
   "metadata": {
    "collapsed": false
   },
   "outputs": [
    {
     "name": "stdout",
     "output_type": "stream",
     "text": [
      "[-2.         -1.78947368 -1.57894737 -1.36842105 -1.15789474 -0.94736842\n",
      " -0.73684211 -0.52631579 -0.31578947 -0.10526316  0.10526316  0.31578947\n",
      "  0.52631579  0.73684211  0.94736842  1.15789474  1.36842105  1.57894737\n",
      "  1.78947368  2.        ]\n",
      "[-2.0+/-0.123, -1.7894736842105263+/-0.123, -1.5789473684210527+/-0.123, -1.368421052631579+/-0.123, -1.1578947368421053+/-0.123, -0.9473684210526316+/-0.123, -0.736842105263158+/-0.123, -0.5263157894736843+/-0.123, -0.3157894736842106+/-0.123, -0.10526315789473695+/-0.123, 0.10526315789473673+/-0.123, 0.3157894736842106+/-0.123, 0.5263157894736841+/-0.123, 0.7368421052631575+/-0.123, 0.9473684210526314+/-0.123, 1.1578947368421053+/-0.123, 1.3684210526315788+/-0.123, 1.5789473684210522+/-0.123, 1.789473684210526+/-0.123, 2.0+/-0.123]\n"
     ]
    },
    {
     "data": {
      "image/png": "[encoded data removed]",
      "text/plain": [
       "<matplotlib.figure.Figure at 0x2b4161bbba8>"
      ]
     },
     "metadata": {},
     "output_type": "display_data"
    }
   ],
   "source": [
    "# make a plot that respects theoretical models. a continous error plot of sorts\n",
    "# we are going to use a single coil field as our model to create the plot\n",
    "\n",
    "y = np.linspace(-2, 2, 20)\n",
    "k = []\n",
    "for i in y: k.append(ufloat(i ,.123))\n",
    "print(y)\n",
    "print(k)\n",
    "x = []\n",
    "for i in y:\n",
    "    x.append(i**2 + 1.98788)\n",
    "    \n",
    "plt.plot(unumpy.nominal_values(k), x, 'o')\n",
    "plt.show()\n",
    "\n",
    "# transform the numpy array and python list into ufloat arrays\n",
    "y = unumpy.uarray(y, 0.1)\n",
    "x = unumpy.uarray(x, 0.1)\n",
    "\n",
    "# make an errorbarr plot"
   ]
  },
  {
   "cell_type": "code",
   "execution_count": null,
   "metadata": {
    "collapsed": true
   },
   "outputs": [],
   "source": []
  },
  {
   "cell_type": "code",
   "execution_count": null,
   "metadata": {
    "collapsed": true
   },
   "outputs": [],
   "source": []
  },
  {
   "cell_type": "code",
   "execution_count": null,
   "metadata": {
    "collapsed": true
   },
   "outputs": [],
   "source": []
  }
 ],
 "metadata": {
  "kernelspec": {
   "display_name": "Python 3",
   "language": "python",
   "name": "python3"
  },
  "language_info": {
   "codemirror_mode": {
    "name": "ipython",
    "version": 3
   },
   "file_extension": ".py",
   "mimetype": "text/x-python",
   "name": "python",
   "nbconvert_exporter": "python",
   "pygments_lexer": "ipython3",
   "version": "3.5.1"
  }
 },
 "nbformat": 4,
 "nbformat_minor": 0
}
