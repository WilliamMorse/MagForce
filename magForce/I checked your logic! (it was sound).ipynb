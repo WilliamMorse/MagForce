{
 "cells": [
  {
   "cell_type": "code",
   "execution_count": 2,
   "metadata": {
    "collapsed": true
   },
   "outputs": [],
   "source": [
    "import numpy as np\n",
    "import matplotlib.pyplot as plt\n",
    "% matplotlib inline\n",
    "import uncertainties as u\n",
    "from uncertainties import unumpy\n",
    "\n",
    "from scipy.stats import linregress"
   ]
  },
  {
   "cell_type": "markdown",
   "metadata": {},
   "source": [
    "## my thinking is that if we plot F vs Gradient B $\\mu$ will bw the slope of that graph\n",
    "\n",
    "$$F = \\mu\\frac{dB}{dR_y}$$\n",
    "Looks good units checkout! \n",
    "\n",
    "\n",
    "## Let me know if you follow\n",
    "\n"
   ]
  },
  {
   "cell_type": "markdown",
   "metadata": {},
   "source": [
    "## First, routine to unpack and plot uncertanties package"
   ]
  },
  {
   "cell_type": "code",
   "execution_count": 3,
   "metadata": {
    "collapsed": true
   },
   "outputs": [],
   "source": [
    "# We need to make a function to parse the uncertinty array and return a matplotlib plot:\n",
    "def unpack_uFloat_array(xuarray, yuarray):\n",
    "    # empty lists to condtain the data\n",
    "    xData = []\n",
    "    xError = []\n",
    "    yData = []\n",
    "    yError = []\n",
    "    \n",
    "    # step theough the array and unpack the values\n",
    "    for i in xuarray:\n",
    "        xData.append(i.n) # in the uncertinty package \"n\" takes the value of a ufloat\n",
    "        xError.append(i.s) # and \"s\" is the uncertinty\n",
    "    \n",
    "    # do the same for the y array\n",
    "    for i in yuarray:\n",
    "        yData.append(i.n)\n",
    "        yError.append(i.s)\n",
    "        \n",
    "    return(xData, yData, xError, yError)\n",
    "    \n",
    "def uFloat_errorbarr_plot(xuarray, yuarray, marker='.'):\n",
    "    \n",
    "    xData, yData, xError, yError = unpack_uFloat_array(xuarray, yuarray)\n",
    "        \n",
    "    # return a matplotlib figure.\n",
    "    return(plt.errorbar(xData, yData, xerr=xError, yerr=yError, fmt = marker))"
   ]
  },
  {
   "cell_type": "code",
   "execution_count": null,
   "metadata": {
    "collapsed": true
   },
   "outputs": [],
   "source": []
  },
  {
   "cell_type": "code",
   "execution_count": 4,
   "metadata": {
    "collapsed": false
   },
   "outputs": [
    {
     "name": "stdout",
     "output_type": "stream",
     "text": [
      "LinregressResult(slope=0.39145115601879349, intercept=-0.00025842316030161988, rvalue=0.99571005254839284, pvalue=2.309856235186893e-06, stderr=0.01626800865292229)\n"
     ]
    },
    {
     "data": {
      "image/png": "[encoded data removed]",
      "text/plain": [
       "<matplotlib.figure.Figure at 0x203386c95f8>"
      ]
     },
     "metadata": {},
     "output_type": "display_data"
    }
   ],
   "source": [
    "Qdata = np.genfromtxt('RawQuadForce.txt', delimiter=\"\\t\") # each row has form: [current, deflection of the spring].\n",
    "#All the variables\n",
    "I = unumpy.uarray(Qdata[:,0], .01) # current \n",
    "x = unumpy.uarray(Qdata[:,1], .0005) # displacemnt of the spring\n",
    "#print(x)\n",
    "\n",
    "k = u.ufloat(1.16, 0.07) # spring constant measured experementaly\n",
    "x= x*0.001 # set the x array to be in meters \n",
    "#print(x)\n",
    "mu = 4*np.pi*1e-7\n",
    "N = 168\n",
    "R = u.ufloat(.07, 0.0005)\n",
    "R_y = u.ufloat(.035, 0.0005)\n",
    "F = x*(k)\n",
    "#print(F)\n",
    "\n",
    "#Calculate the gradient at the center of a quadrapole field for a given I\n",
    "DPGrad= []#T/m\n",
    "for i in range(len(I)):\n",
    "    DPGrad.append((abs(3*(mu*N*I[i]*R**2*R_y))/((R_y**2 + R**2)**(5/2))))\n",
    "\n",
    "#unpack Force and Gradient B data\n",
    "Fdata, DPGradData, Ferror, DPGradError = unpack_uFloat_array(F,DPGrad)\n",
    "\n",
    "# get the best fit line of Force vs Gradient B. This should be the magnetic moment (mu) in Am^\n",
    "moment = []\n",
    "m, b, rsq, pval, standarderror = linregress(Fdata,DPGradData)\n",
    "print(linregress(DPGradData, Fdata))\n",
    "for i in Fdata:\n",
    "    moment.append(m*i+b)\n",
    "    \n",
    "#plot the data\n",
    "plt.plot(moment, Fdata)\n",
    "uFloat_errorbarr_plot(DPGrad, F) \n",
    "plt.title('magnetic moment')\n",
    "plt.xlabel('Gradient (T/m)')\n",
    "plt.ylabel('Force on dipole (N/m)')\n",
    "plt.show()\n",
    "\n"
   ]
  },
  {
   "cell_type": "markdown",
   "metadata": {},
   "source": [
    "The slope above 1.26636 is close to our calculated magnetic moment shown below just one order of magnitude off"
   ]
  },
  {
   "cell_type": "code",
   "execution_count": 5,
   "metadata": {
    "collapsed": false
   },
   "outputs": [
    {
     "data": {
      "image/png": "[encoded data removed]",
      "text/plain": [
       "<matplotlib.figure.Figure at 0x203386e1b70>"
      ]
     },
     "metadata": {},
     "output_type": "display_data"
    },
    {
     "name": "stdout",
     "output_type": "stream",
     "text": [
      "[0.36261877263627273, 0.3803825466477699, 0.39508381804523773, 0.39194823218773583, 0.41807811433358494, 0.4076261614752453, 0.3135585857501887]\n"
     ]
    },
    {
     "data": {
      "text/plain": [
       "0.3813280330108622"
      ]
     },
     "execution_count": 5,
     "metadata": {},
     "output_type": "execute_result"
    }
   ],
   "source": [
    "# calculate the magnetic moment using mu = F/(gradient B)\n",
    "mm= []#Am^2\n",
    "for i in range(len(F)):\n",
    "    #mm.append(abs(F[(i)]/((-75.0*np.sqrt(5)*mu*N*I[i])/(64*R**2))).n)\n",
    "    mm.append(abs(F[(i)]/((-48*mu*N*I[i])/(25*np.sqrt(5)*R**2))).n) # i recalculated this from the expression above, but im not \n",
    "    # sure if this is for only one coil and not two? answer: This is for two coils \n",
    "\n",
    "\n",
    "plt.plot(mm, 'o')\n",
    "plt.show()\n",
    "print (mm)\n",
    "sum(mm)/len(mm) #Dipole moment!!!!!!!!"
   ]
  },
  {
   "cell_type": "markdown",
   "metadata": {},
   "source": [
    "\n",
    "The order of magnitude throws me off. I cant see where the mistake would be, if there is one.\n",
    "Do you think it would be worth including this graph to show how we expermentaly got $\\mu$? that is assuming the slope is actualy $\\mu$\n",
    "\n",
    "\n",
    "So I think our gradent function was wrong but I went through it with paul and it seems that we've got the correct one now.\n",
    "and good news the results agree! (which makes sense because we used the same data with two different analisis meathods RSQ vs a plain old average value."
   ]
  },
  {
   "cell_type": "code",
   "execution_count": 7,
   "metadata": {
    "collapsed": false
   },
   "outputs": [
    {
     "name": "stdout",
     "output_type": "stream",
     "text": [
      "[0.00025315437094137956+/-3.0928964598191385e-06, 0.00018894165045414652+/-3.318603579511878e-06, 0.0001208337475473766+/-3.480872045141191e-06, 5.0182341981862264e-05+/-3.5719161889757925e-06, -2.1537451090613614e-05+/-3.587267894374749e-06, -9.279784036926475e-05+/-3.5261667631876166e-06, -0.00016209374478227622+/-3.391627301874603e-06, -0.0002280161782953499+/-3.190173906635163e-06, -0.0002893172782857098+/-2.931279794769614e-06, -0.00034496174748762493+/-2.6265843831460282e-06]\n"
     ]
    },
    {
     "data": {
      "image/png": "[encoded data removed]",
      "text/plain": [
       "<matplotlib.figure.Figure at 0x2033881cb00>"
      ]
     },
     "metadata": {},
     "output_type": "display_data"
    }
   ],
   "source": [
    "# Now we want to grab the one coil gradent data and compare that with the theoretical gradeent for one coil\n",
    "singleCoilData = np.genfromtxt('singleCoilGradentVsYPosition.txt', delimiter=', ', skip_header=True)\n",
    "#print('raw data: \\n', singleCoilData) # [position_before_field_turn_off, offset_after_field_turn_off]\n",
    "\n",
    "yPosition = unumpy.uarray(singleCoilData[:,0] ,0.5)\n",
    "yOffset = singleCoilData[:,1]\n",
    "\n",
    "# change both data columns from millimeters to meters.\n",
    "yPosition *= 0.001\n",
    "yOffset *= 0.001\n",
    "\n",
    "#offset the position so 0 is in the center of the coil\n",
    "#yOffset += \n",
    "\n",
    "#change the offsets to force on the dipole\n",
    "forceOnDipole = -k*yPosition\n",
    "#change force on dipole to the gradent of B by dividinng by the dipole moment\n",
    "m= 0.39145\n",
    "experemental_B_grad = forceOnDipole / m\n",
    "\n",
    "# not model the experemental data:\n",
    "\n",
    "R_z = .07\n",
    "grB = []\n",
    "for i in yPosition:\n",
    "    grB.append( ((-3*mu*168*3*R_z**2*(i))/(i**2+R_z)**(5/2)) )\n",
    "\n",
    "\n",
    "\n",
    "plt.xlabel('distnace from center of coil')\n",
    "plt.ylabel('grad B one coil')\n",
    "#nuFloat_errorbarr_plot(yPosition, experemental_B_grad)\n",
    "uFloat_errorbarr_plot(yPosition, grB)\n",
    "print(grB)\n",
    "plt.show()"
   ]
  },
  {
   "cell_type": "code",
   "execution_count": null,
   "metadata": {
    "collapsed": true
   },
   "outputs": [],
   "source": []
  },
  {
   "cell_type": "code",
   "execution_count": null,
   "metadata": {
    "collapsed": true
   },
   "outputs": [],
   "source": []
  },
  {
   "cell_type": "code",
   "execution_count": null,
   "metadata": {
    "collapsed": true
   },
   "outputs": [],
   "source": []
  }
 ],
 "metadata": {
  "kernelspec": {
   "display_name": "Python 3",
   "language": "python",
   "name": "python3"
  },
  "language_info": {
   "codemirror_mode": {
    "name": "ipython",
    "version": 3
   },
   "file_extension": ".py",
   "mimetype": "text/x-python",
   "name": "python",
   "nbconvert_exporter": "python",
   "pygments_lexer": "ipython3",
   "version": "3.5.1"
  }
 },
 "nbformat": 4,
 "nbformat_minor": 0
}
